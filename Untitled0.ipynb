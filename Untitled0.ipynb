{
  "nbformat": 4,
  "nbformat_minor": 0,
  "metadata": {
    "colab": {
      "name": "Untitled0.ipynb",
      "provenance": [],
      "authorship_tag": "ABX9TyOKTK+pKYWS9v6S9KFt8i6Q",
      "include_colab_link": true
    },
    "kernelspec": {
      "name": "python3",
      "display_name": "Python 3"
    }
  },
  "cells": [
    {
      "cell_type": "markdown",
      "metadata": {
        "id": "view-in-github",
        "colab_type": "text"
      },
      "source": [
        "<a href=\"https://colab.research.google.com/github/sieunjeong/-/blob/master/Untitled0.ipynb\" target=\"_parent\"><img src=\"https://colab.research.google.com/assets/colab-badge.svg\" alt=\"Open In Colab\"/></a>"
      ]
    },
    {
      "cell_type": "markdown",
      "metadata": {
        "id": "yxc_GEASlNJP",
        "colab_type": "text"
      },
      "source": [
        "##1강 요약정리\n",
        "*  파이썬 자료실"
      ]
    },
    {
      "cell_type": "code",
      "metadata": {
        "id": "iiE3tcHmnEIg",
        "colab_type": "code",
        "outputId": "16656671-7b94-4b59-b89d-1e794b0e0297",
        "colab": {
          "base_uri": "https://localhost:8080/",
          "height": 34
        }
      },
      "source": [
        "mystr = \"hello\"\n",
        "myint = 123\n",
        "mylist = [True, False, True]\n",
        "\n",
        "print(type(mystr), type(myint), type(mylist))"
      ],
      "execution_count": 7,
      "outputs": [
        {
          "output_type": "stream",
          "text": [
            "<class 'str'> <class 'int'> <class 'list'>\n"
          ],
          "name": "stdout"
        }
      ]
    },
    {
      "cell_type": "markdown",
      "metadata": {
        "id": "EAJM0Y_Kp2I8",
        "colab_type": "text"
      },
      "source": [
        "* 파이썬 연산자"
      ]
    },
    {
      "cell_type": "code",
      "metadata": {
        "id": "iVv8qcWfp5SQ",
        "colab_type": "code",
        "colab": {}
      },
      "source": [
        "# 환영인사 함수\n",
        "def hello(name):\n",
        "  return f'환영합니다. {name}님'"
      ],
      "execution_count": 0,
      "outputs": []
    },
    {
      "cell_type": "code",
      "metadata": {
        "id": "W_2ITNTQqgq0",
        "colab_type": "code",
        "colab": {
          "base_uri": "https://localhost:8080/",
          "height": 52
        },
        "outputId": "e881494f-3240-4b4b-fb38-e0668f9da1e3"
      },
      "source": [
        "name = input('이름을 입력해주세요 ')\n",
        "hello(name)"
      ],
      "execution_count": 10,
      "outputs": [
        {
          "output_type": "stream",
          "text": [
            "이름을 입력해주세요 정시은\n"
          ],
          "name": "stdout"
        },
        {
          "output_type": "execute_result",
          "data": {
            "text/plain": [
              "'환영합니다. 정시은님'"
            ]
          },
          "metadata": {
            "tags": []
          },
          "execution_count": 10
        }
      ]
    },
    {
      "cell_type": "code",
      "metadata": {
        "id": "o3IFbgMxq4NH",
        "colab_type": "code",
        "colab": {}
      },
      "source": [
        ""
      ],
      "execution_count": 0,
      "outputs": []
    }
  ]
}