{
  "nbformat": 4,
  "nbformat_minor": 0,
  "metadata": {
    "colab": {
      "name": "연습문제 풀이.ipynb",
      "provenance": [],
      "authorship_tag": "ABX9TyMtBL+9FHz2otLjrsgJFxnG",
      "include_colab_link": true
    },
    "kernelspec": {
      "name": "python3",
      "display_name": "Python 3"
    }
  },
  "cells": [
    {
      "cell_type": "markdown",
      "metadata": {
        "id": "view-in-github",
        "colab_type": "text"
      },
      "source": [
        "<a href=\"https://colab.research.google.com/github/sieunjeong/-/blob/master/%EC%97%B0%EC%8A%B5%EB%AC%B8%EC%A0%9C_%ED%92%80%EC%9D%B4.ipynb\" target=\"_parent\"><img src=\"https://colab.research.google.com/assets/colab-badge.svg\" alt=\"Open In Colab\"/></a>"
      ]
    },
    {
      "cell_type": "code",
      "metadata": {
        "id": "Hhkvfo0dcQ8K",
        "colab_type": "code",
        "colab": {}
      },
      "source": [
        "# for 문의 기본적인 구조\n",
        "# for 변수 in <리스트, 튜플, range 함수 등>\n",
        "#          실행코드\n",
        "list = [1, 2, 3, 4]\n",
        "tuple = ('a', 'b', 'c', 'd')\n",
        "\n",
        "for i in list:    # for문의 in 연산자는 in뒤의 데이터가\n",
        "    print(i)      # 있읅경우 true를 리턴하며,\n",
        "                  # 변수는 반복에 따라 해당 데이터를\n",
        "for j in tuple:   # 순차적으로 할당받게 된다.\n",
        "    print(j)      # in 뒤에 데이터가 없을 경우 false를 리턴해\n",
        "                  # for문을 종료된다."
      ],
      "execution_count": 0,
      "outputs": []
    },
    {
      "cell_type": "code",
      "metadata": {
        "id": "uOxAYxpveP-t",
        "colab_type": "code",
        "colab": {}
      },
      "source": [
        "# range 함수 : 숫자리스트 자동으로 만들어주는 함수. 매개변수에 따라 크게 3가지 방식으로 사용\n",
        "\n",
        "for i in range(10):   # 0~9까지 반복\n",
        "    print('i = ', i)\n",
        "# 매개변수가 1개일 경우 초기값이 0 부터 시작\n",
        "# 끝 번호는 해당 숫자보다 하나 적은수까지 1씩 증가하면서\n",
        "# 데이터를 저장하는 객체 생성\n",
        "# 즉 range(10)은 0~9까지 데이터를 저장하게 되며\n",
        "# for ~ in에 의해 하나씩 변수가 반복되면서 변수에 데이터가 할당된다.    "
      ],
      "execution_count": 0,
      "outputs": []
    },
    {
      "cell_type": "code",
      "metadata": {
        "id": "rV5_2LEbghB5",
        "colab_type": "code",
        "colab": {}
      },
      "source": [
        "for i in range(1, 10):\n",
        "    print('i = ', i)\n",
        "# range 함수의 첫 번째 매개변수는 시작기호를 의미하며,\n",
        "# 두 번째 매개변수는 끝 번호를 의미한다.\n",
        "# 즉 range(1, 10)은 1~9까지 데이터를 저장하며\n",
        "#    for~in에 의해 하나씩 반복되며 변수에 데이터가 할당된다."
      ],
      "execution_count": 0,
      "outputs": []
    },
    {
      "cell_type": "code",
      "metadata": {
        "id": "4I_SG_eWhSfD",
        "colab_type": "code",
        "colab": {}
      },
      "source": [
        "# 매개변수가 3개인 경우\n",
        "for i in range(1, 10, 1):  #매개변수 첫 번째 및 두 번째는 매개변수가 두 개일 경우와 같아.\n",
        "    print('i = ', i)       # 세 번째 매개변수는 증감을 의미하며\n",
        "print('='*20)              # 1씩 증가시키거나 2씩 증가시키는 것을 결정\n",
        "for j in range(1,10,2):    # -를 이용해 감소도 가능하다\n",
        "    print('j = ', j)\n",
        "# 즉 range(1, 10, 2)는 1~9까지 2씩 증가된 데이터를\n",
        "# for~in에 의해 데이털르 순차적으로 변수에 할당하게 된다."
      ],
      "execution_count": 0,
      "outputs": []
    },
    {
      "cell_type": "code",
      "metadata": {
        "id": "Gz_q6VbVjYes",
        "colab_type": "code",
        "outputId": "1dc68ac8-4c40-4cb4-9a38-ca5034005e30",
        "colab": {
          "base_uri": "https://localhost:8080/",
          "height": 34
        }
      },
      "source": [
        "# for 문의 기본적인 구조\n",
        "# for 변수 in <리스트, 튜플, range 함수 등>\n",
        "#          실행코드\n",
        "\n",
        "sum = 0    # 초기값\n",
        "for i in range(1, 11):  # 1~10까지 반복\n",
        "    sum += i    # sum에 i 값 누적 (sum=i+1)\n",
        "print(sum)"
      ],
      "execution_count": 0,
      "outputs": [
        {
          "output_type": "stream",
          "text": [
            "55\n"
          ],
          "name": "stdout"
        }
      ]
    },
    {
      "cell_type": "code",
      "metadata": {
        "id": "ZKvKIWq3SglO",
        "colab_type": "code",
        "colab": {
          "base_uri": "https://localhost:8080/",
          "height": 34
        },
        "outputId": "cb1fdd51-eae4-4d4f-978d-a0cb69e34035"
      },
      "source": [
        "w = 1+2*0.1*(4-3)\n",
        "w"
      ],
      "execution_count": 3,
      "outputs": [
        {
          "output_type": "execute_result",
          "data": {
            "text/plain": [
              "1.2"
            ]
          },
          "metadata": {
            "tags": []
          },
          "execution_count": 3
        }
      ]
    },
    {
      "cell_type": "code",
      "metadata": {
        "id": "dg2d5G3kSsgD",
        "colab_type": "code",
        "colab": {
          "base_uri": "https://localhost:8080/",
          "height": 34
        },
        "outputId": "cb4fe49c-4e9a-40b9-fd92-0fa85ddd1131"
      },
      "source": [
        "w = 1+2*0.2*(4-3)\n",
        "w"
      ],
      "execution_count": 4,
      "outputs": [
        {
          "output_type": "execute_result",
          "data": {
            "text/plain": [
              "1.4"
            ]
          },
          "metadata": {
            "tags": []
          },
          "execution_count": 4
        }
      ]
    },
    {
      "cell_type": "code",
      "metadata": {
        "id": "AGssTQCpZjcE",
        "colab_type": "code",
        "colab": {
          "base_uri": "https://localhost:8080/",
          "height": 210
        },
        "outputId": "9280f6c8-5a3d-4937-cab2-3e1d54957176"
      },
      "source": [
        "import tensorflow as tf\n",
        "tf.compat.v1.set_random_seed(2020)\n",
        "x = 2\n",
        "y = 3\n",
        "#w = tf.random.normal([1],0,1)\n",
        "w = 1\n",
        "\n",
        "import math\n",
        "def sigmoid(x):\n",
        "  return 1/(1+math.exp(-x))\n",
        "\n",
        "output = sigmoid(x*w)\n",
        "print(output)\n",
        "\n",
        "for i in range(1000):\n",
        "  output = sigmoid(x*w)\n",
        "  error = y - output\n",
        "  w = w + x * 0.2 * error\n",
        "\n",
        "  if i % 100 == 99:\n",
        "    print(\"학습횟수:\",i,\"Error:\",error,\"예측결과:\",output)"
      ],
      "execution_count": 9,
      "outputs": [
        {
          "output_type": "stream",
          "text": [
            "0.8807970779778823\n",
            "학습횟수: 99 Error: 2.0 예측결과: 1.0\n",
            "학습횟수: 199 Error: 2.0 예측결과: 1.0\n",
            "학습횟수: 299 Error: 2.0 예측결과: 1.0\n",
            "학습횟수: 399 Error: 2.0 예측결과: 1.0\n",
            "학습횟수: 499 Error: 2.0 예측결과: 1.0\n",
            "학습횟수: 599 Error: 2.0 예측결과: 1.0\n",
            "학습횟수: 699 Error: 2.0 예측결과: 1.0\n",
            "학습횟수: 799 Error: 2.0 예측결과: 1.0\n",
            "학습횟수: 899 Error: 2.0 예측결과: 1.0\n",
            "학습횟수: 999 Error: 2.0 예측결과: 1.0\n"
          ],
          "name": "stdout"
        }
      ]
    },
    {
      "cell_type": "code",
      "metadata": {
        "id": "Dmwb6kKJk8t6",
        "colab_type": "code",
        "colab": {
          "base_uri": "https://localhost:8080/",
          "height": 34
        },
        "outputId": "42d8bf3b-4a42-480f-b188-a0dbaa0ae0f6"
      },
      "source": [
        "w = 1-3*0.2*1\n",
        "w"
      ],
      "execution_count": 21,
      "outputs": [
        {
          "output_type": "execute_result",
          "data": {
            "text/plain": [
              "0.3999999999999999"
            ]
          },
          "metadata": {
            "tags": []
          },
          "execution_count": 21
        }
      ]
    },
    {
      "cell_type": "code",
      "metadata": {
        "id": "McH_NOHVnSwX",
        "colab_type": "code",
        "colab": {
          "base_uri": "https://localhost:8080/",
          "height": 34
        },
        "outputId": "447bb725-e7e0-4de3-a30c-cbcbf3e6bc6d"
      },
      "source": [
        "w = 1-3*0.1*1\n",
        "w"
      ],
      "execution_count": 22,
      "outputs": [
        {
          "output_type": "execute_result",
          "data": {
            "text/plain": [
              "0.7"
            ]
          },
          "metadata": {
            "tags": []
          },
          "execution_count": 22
        }
      ]
    },
    {
      "cell_type": "code",
      "metadata": {
        "id": "wN4VabHcqg3g",
        "colab_type": "code",
        "colab": {
          "base_uri": "https://localhost:8080/",
          "height": 34
        },
        "outputId": "8d16591a-707f-4726-ded9-396b80f3341c"
      },
      "source": [
        "x = 3*2/10\n",
        "x"
      ],
      "execution_count": 30,
      "outputs": [
        {
          "output_type": "execute_result",
          "data": {
            "text/plain": [
              "0.6"
            ]
          },
          "metadata": {
            "tags": []
          },
          "execution_count": 30
        }
      ]
    },
    {
      "cell_type": "code",
      "metadata": {
        "id": "c65UmE7epHlN",
        "colab_type": "code",
        "colab": {
          "base_uri": "https://localhost:8080/",
          "height": 34
        },
        "outputId": "ebd11d0a-1711-4a7c-b6e1-d2663285d5ff"
      },
      "source": [
        "y = (2.0*0.4)+(1*0.8)\n",
        "y"
      ],
      "execution_count": 33,
      "outputs": [
        {
          "output_type": "execute_result",
          "data": {
            "text/plain": [
              "1.6"
            ]
          },
          "metadata": {
            "tags": []
          },
          "execution_count": 33
        }
      ]
    },
    {
      "cell_type": "code",
      "metadata": {
        "id": "xccihkoSlBcw",
        "colab_type": "code",
        "colab": {
          "base_uri": "https://localhost:8080/",
          "height": 34
        },
        "outputId": "c5395932-e046-4343-fc4a-1793520a3099"
      },
      "source": [
        "w = 1+2*0.1*1\n",
        "w"
      ],
      "execution_count": 20,
      "outputs": [
        {
          "output_type": "execute_result",
          "data": {
            "text/plain": [
              "1.2"
            ]
          },
          "metadata": {
            "tags": []
          },
          "execution_count": 20
        }
      ]
    }
  ]
}